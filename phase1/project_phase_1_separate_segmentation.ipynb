{
 "cells": [
  {
   "cell_type": "markdown",
   "metadata": {
    "collapsed": true,
    "pycharm": {
     "name": "#%% md\n"
    }
   },
   "source": [
    "# Traffic sign detection and classification"
   ]
  },
  {
   "cell_type": "code",
   "execution_count": 4,
   "metadata": {
    "pycharm": {
     "name": "#%%\n"
    }
   },
   "outputs": [],
   "source": [
    "from xml.dom import minidom\n",
    "from os import walk\n",
    "import pandas as pd\n",
    "import cv2 as cv\n",
    "import numpy as np\n",
    "from sklearn import metrics\n",
    "import os"
   ]
  },
  {
   "cell_type": "code",
   "execution_count": 5,
   "metadata": {
    "pycharm": {
     "name": "#%%\n"
    }
   },
   "outputs": [
    {
     "name": "stdout",
     "output_type": "stream",
     "text": [
      "Importing 588 images\n"
     ]
    }
   ],
   "source": [
    "filenames = next(walk(\"res/annotations\"), (None, None, []))[2]  # [] if no file\n",
    "\n",
    "signs = []\n",
    "\n",
    "for annotation in filenames:\n",
    "    # parse an xml file by name\n",
    "    file = minidom.parse(\"res/annotations/\" + annotation)\n",
    "    #use getElementsByTagName() to get tag\n",
    "    if len(file.getElementsByTagName('name')) == 1:\n",
    "        path = \"res/images/\" + file.getElementsByTagName('filename')[0].firstChild.data\n",
    "        filename = file.getElementsByTagName('filename')[0].firstChild.data\n",
    "        name = file.getElementsByTagName('name')[0].firstChild.data\n",
    "        # truncated = file.getElementsByTagName('truncated')[0].firstChild.data\n",
    "        # occluded = file.getElementsByTagName('occluded')[0].firstChild.data\n",
    "        # difficult = file.getElementsByTagName('difficult')[0].firstChild.data\n",
    "\n",
    "        if name == \"trafficlight\":\n",
    "            continue\n",
    "\n",
    "        signs.append([filename, name, path])\n",
    "\n",
    "print(f'Importing {len(signs)} images')\n",
    "\n",
    "df = pd.DataFrame(signs, columns=['filename', 'name', 'path'])\n"
   ]
  },
  {
   "cell_type": "code",
   "execution_count": 6,
   "metadata": {
    "pycharm": {
     "name": "#%%\n"
    }
   },
   "outputs": [],
   "source": [
    "def condition_classes(s):\n",
    "    if s['name'] == 'speedlimit':\n",
    "        return 0\n",
    "    elif s[\"name\"] == 'crosswalk':\n",
    "        return 1\n",
    "    elif s[\"name\"] == \"stop\":\n",
    "        return 2\n",
    "\n",
    "\n",
    "df[\"class\"] = df.apply(condition_classes, axis=1)"
   ]
  },
  {
   "cell_type": "markdown",
   "metadata": {},
   "source": [
    "## Step 1 - Histogram equalization\n",
    "\n",
    "TODO - Need to improve the histogram equalization"
   ]
  },
  {
   "cell_type": "code",
   "execution_count": 7,
   "metadata": {
    "pycharm": {
     "name": "#%%\n"
    }
   },
   "outputs": [],
   "source": [
    "def apply_histogram_equalization(row):\n",
    "    img = cv.imread(row.path)\n",
    "    lab = cv.cvtColor(img, cv.COLOR_BGR2LAB)\n",
    "\n",
    "    clahe = cv.createCLAHE(clipLimit=10.0,tileGridSize=(8,8))\n",
    "\n",
    "    lab[...,0] = clahe.apply(lab[...,0])\n",
    "\n",
    "    out = cv.cvtColor(lab, cv.COLOR_LAB2BGR)\n",
    "    \n",
    "    #para ignorar este passo \n",
    "    #out = img\n",
    "\n",
    "    cv.imwrite(\"output2/1histogram/\" + row.filename, out)"
   ]
  },
  {
   "cell_type": "code",
   "execution_count": 8,
   "metadata": {
    "pycharm": {
     "name": "#%%\n"
    }
   },
   "outputs": [
    {
     "data": {
      "text/plain": [
       "0      None\n",
       "1      None\n",
       "2      None\n",
       "3      None\n",
       "4      None\n",
       "       ... \n",
       "583    None\n",
       "584    None\n",
       "585    None\n",
       "586    None\n",
       "587    None\n",
       "Length: 588, dtype: object"
      ]
     },
     "execution_count": 8,
     "metadata": {},
     "output_type": "execute_result"
    }
   ],
   "source": [
    "df.apply(apply_histogram_equalization, axis=1)"
   ]
  },
  {
   "cell_type": "markdown",
   "metadata": {
    "pycharm": {
     "name": "#%% md\n"
    }
   },
   "source": [
    "## Step 2 - Segmentation by Color"
   ]
  },
  {
   "cell_type": "code",
   "execution_count": 9,
   "metadata": {
    "pycharm": {
     "name": "#%%\n"
    }
   },
   "outputs": [],
   "source": [
    "def apply_segmentation(row):\n",
    "    img = cv.imread(row.path)\n",
    "    # TODO - work on histogram equalization\n",
    "    img_hist = cv.imread(\"output2/1histogram/\" + row.filename)\n",
    "    img_hsv = cv.cvtColor(img_hist, cv.COLOR_BGR2HSV)\n",
    "\n",
    "    lower_red_m1 = (0, 70, 30)\n",
    "    upper_red_m1 = (10, 255, 255)\n",
    "\n",
    "    lower_red_m2 = (170, 70, 30)\n",
    "    upper_red_m2 = (180, 255, 255)\n",
    "\n",
    "    lower_blue_m3 = (94, 127, 20)\n",
    "    upper_blue_m3 = (126, 255, 200)\n",
    "    \n",
    "    mask1 = cv.inRange(img_hsv, lower_red_m1, upper_red_m1)\n",
    "    mask2 = cv.inRange(img_hsv, lower_red_m2, upper_red_m2)\n",
    "\n",
    "    blue_mask = cv.inRange(img_hsv, lower_blue_m3, upper_blue_m3)\n",
    "    \n",
    "    red_mask = mask1 + mask2\n",
    "\n",
    "    # out = cv.bitwise_and(img_hist, img_hist, mask=mask)\n",
    "    if cv.countNonZero(red_mask) !=0 :\n",
    "        cv.imwrite(\"output2/2segmentation/red/\" + row.filename, red_mask)\n",
    "    if cv.countNonZero(blue_mask) != 0:\n",
    "        cv.imwrite(\"output2/2segmentation/blue/\" + row.filename, blue_mask)\n",
    "        \n"
   ]
  },
  {
   "cell_type": "code",
   "execution_count": 10,
   "metadata": {
    "pycharm": {
     "name": "#%%\n"
    }
   },
   "outputs": [
    {
     "data": {
      "text/plain": [
       "0      None\n",
       "1      None\n",
       "2      None\n",
       "3      None\n",
       "4      None\n",
       "       ... \n",
       "583    None\n",
       "584    None\n",
       "585    None\n",
       "586    None\n",
       "587    None\n",
       "Length: 588, dtype: object"
      ]
     },
     "execution_count": 10,
     "metadata": {},
     "output_type": "execute_result"
    }
   ],
   "source": [
    "df.apply(apply_segmentation, axis=1)"
   ]
  },
  {
   "cell_type": "markdown",
   "metadata": {
    "pycharm": {
     "name": "#%% md\n"
    }
   },
   "source": [
    "## Step 3 - Post-Processing"
   ]
  },
  {
   "cell_type": "code",
   "execution_count": 11,
   "metadata": {},
   "outputs": [],
   "source": [
    "def compare_masks(blue, red): \n",
    "    return blue if red == np.zeros(red.shape) else (red if blue == np.zeros(blue.shape) else blue, red)"
   ]
  },
  {
   "cell_type": "code",
   "execution_count": 12,
   "metadata": {
    "pycharm": {
     "name": "#%%\n"
    }
   },
   "outputs": [],
   "source": [
    "def apply_post_processing_blue(row):\n",
    "    img = cv.imread(row.path)\n",
    "    segm_img = cv.imread(\"output2/2segmentation/blue/\" + row.filename, cv.IMREAD_GRAYSCALE)\n",
    "    if cv.countNonZero(segm_img) == 0 :\n",
    "        return\n",
    "\n",
    "    linesP = cv.HoughLinesP(segm_img, 1, np.pi / 180, 50, None, 50, 10)\n",
    "\n",
    "    if linesP is not None:\n",
    "        for i in range(0, len(linesP)):\n",
    "            l = linesP[i][0]\n",
    "            cv.line(segm_img, (l[0], l[1]), (l[2], l[3]),\n",
    "                    (255, 0, 255), 3, cv.LINE_AA)\n",
    "\n",
    "    # blue \n",
    "    # apply median filter to remove noise\n",
    "    out = cv.medianBlur(segm_img, 5)\n",
    "    rows, cols = out.shape\n",
    "\n",
    "    # Taking a matrix of size 5 as the kernel\n",
    "    kernel = np.ones((5, 5), np.uint8)\n",
    "\n",
    "    # morphological operations\n",
    "    out = cv.morphologyEx(out, cv.MORPH_CLOSE, kernel, iterations=4)\n",
    "\n",
    "    # remove small and weird objects\n",
    "    contours, hierarchy = cv.findContours(out, cv.RETR_TREE, cv.CHAIN_APPROX_SIMPLE)[-2:]\n",
    "    for contour in contours:\n",
    "        x, y, w, h = cv.boundingRect(contour)\n",
    "        aspect_ratio = float(w) / h\n",
    "        if cv.contourArea(contour) < 1 / 1500.0 * rows * cols and (aspect_ratio > 0.5 or aspect_ratio < 1.3):\n",
    "            out = cv.fillPoly(out, pts=contour, color=(0, 0, 0))\n",
    "\n",
    "    mask = np.full(img.shape, 0, \"uint8\")\n",
    "    contours, hierarchies = cv.findContours(out, cv.RETR_TREE, cv.CHAIN_APPROX_SIMPLE)[-2:]\n",
    "    for cnt in contours:\n",
    "        cv.drawContours(mask, [cnt], -1, (255, 255, 255), -1)\n",
    "\n",
    "    mask = cv.cvtColor(mask, cv.COLOR_BGR2GRAY)\n",
    "    \n",
    "    # morphological operations\n",
    "    out = cv.erode(mask, kernel, iterations=1)\n",
    "    out = cv.dilate(mask, kernel, iterations=5)\n",
    "\n",
    "    cv.imwrite(\"output2/3post_processing/blue/\" + row.filename, out)\n"
   ]
  },
  {
   "cell_type": "code",
   "execution_count": 13,
   "metadata": {},
   "outputs": [
    {
     "data": {
      "text/plain": [
       "0      None\n",
       "1      None\n",
       "2      None\n",
       "3      None\n",
       "4      None\n",
       "       ... \n",
       "583    None\n",
       "584    None\n",
       "585    None\n",
       "586    None\n",
       "587    None\n",
       "Length: 588, dtype: object"
      ]
     },
     "execution_count": 13,
     "metadata": {},
     "output_type": "execute_result"
    }
   ],
   "source": [
    "df.apply(apply_post_processing_blue, axis=1)"
   ]
  },
  {
   "cell_type": "code",
   "execution_count": 14,
   "metadata": {},
   "outputs": [],
   "source": [
    "def apply_post_processing_red(row):\n",
    "    img = cv.imread(row.path)\n",
    "    red_segm_img = cv.imread(\n",
    "        \"output2/2segmentation/red/\" + row.filename, cv.IMREAD_GRAYSCALE)\n",
    "\n",
    "    # apply median filter to remove noise\n",
    "    out = cv.medianBlur(red_segm_img, 5)\n",
    "    rows, cols = out.shape\n",
    "\n",
    "     # Taking a matrix of size 5 as the kernel\n",
    "    kernel = np.ones((5, 5), np.uint8)\n",
    "\n",
    "    # morphological operations\n",
    "    out = cv.morphologyEx(out, cv.MORPH_CLOSE, kernel, iterations=3)\n",
    "\n",
    "    # remove small and weird objects\n",
    "    contours, hierarchy = cv.findContours(\n",
    "        out, cv.RETR_TREE, cv.CHAIN_APPROX_SIMPLE)[-2:]\n",
    "    for contour in contours:\n",
    "        x, y, w, h = cv.boundingRect(contour)\n",
    "        aspect_ratio = float(w) / h\n",
    "        if cv.contourArea(contour) < 1 / 1500.0 * rows * cols and (aspect_ratio > 0.5 or aspect_ratio < 1.3):\n",
    "            out = cv.fillPoly(out, pts=contour, color=(0, 0, 0))\n",
    "\n",
    "    mask = np.full(img.shape, 0, \"uint8\")\n",
    "    contours, hierarchies = cv.findContours(\n",
    "        out, cv.RETR_TREE, cv.CHAIN_APPROX_NONE)[-2:]\n",
    "    for cnt in contours:\n",
    "        cv.drawContours(mask, [cnt], -1, (255, 255, 255), -1)\n",
    "\n",
    "    mask = cv.cvtColor(mask, cv.COLOR_BGR2GRAY)\n",
    "    # morphological operations\n",
    "\n",
    "    cv.imwrite(\"output2/3post_processing/red/\" + row.filename, out)\n"
   ]
  },
  {
   "cell_type": "code",
   "execution_count": 15,
   "metadata": {
    "pycharm": {
     "name": "#%%\n"
    }
   },
   "outputs": [],
   "source": [
    "df.apply(apply_post_processing_red, axis=1);"
   ]
  },
  {
   "cell_type": "markdown",
   "metadata": {},
   "source": [
    "## Step 4 - Shape Recognition"
   ]
  },
  {
   "cell_type": "code",
   "execution_count": 16,
   "metadata": {},
   "outputs": [],
   "source": [
    "def get_contours(img, processed):\n",
    "    _, thresh = cv.threshold(processed, 240, 255, cv.CHAIN_APPROX_SIMPLE)\n",
    "    contours, _ = cv.findContours(\n",
    "        thresh, cv.RETR_TREE, cv.CHAIN_APPROX_SIMPLE)[-2:]\n",
    "\n",
    "    contours = sorted(contours, key=lambda x: -cv.contourArea(x))[:10]\n",
    "\n",
    "    shapes = []\n",
    "\n",
    "    for contour in contours:\n",
    "        if float(cv.contourArea(contour) / (img.shape[0]*img.shape[1])) >= 0.95:\n",
    "            continue\n",
    "        approx = cv.approxPolyDP(\n",
    "            contour, 0.01*cv.arcLength(contour, True), True)\n",
    "        sh = \"\"\n",
    "        if len(approx) == 4:\n",
    "            shapes.append((\"rectangle\", cv.contourArea(\n",
    "                contour), (cv.boundingRect(contour))))\n",
    "            sh = \"R\"\n",
    "        elif len(approx) == 8:\n",
    "            shapes.append((\"octagon\", cv.contourArea(\n",
    "                contour), (cv.boundingRect(contour))))\n",
    "            sh = \"O\"\n",
    "        elif len(approx) > 8:\n",
    "            shapes.append((\"circle\", cv.contourArea(\n",
    "                contour), (cv.boundingRect(contour))))\n",
    "            sh = \"C\"\n",
    "\n",
    "        processed = cv.drawContours(processed, [contour], 0, (128, 0, 255), 2)\n",
    "        \n",
    "        processed = cv.putText(img=processed, text=sh, org=approx[0][0],\n",
    "                            fontFace=cv.FONT_ITALIC,\n",
    "                            fontScale=1.0,\n",
    "                            color=(128, 0, 255),\n",
    "                            thickness=1)\n",
    "        \n",
    "\n",
    "    return processed, shapes"
   ]
  },
  {
   "cell_type": "code",
   "execution_count": 17,
   "metadata": {
    "pycharm": {
     "name": "#%%\n"
    }
   },
   "outputs": [],
   "source": [
    "def shape_recognition(row):\n",
    "    img = cv.imread(row.path)\n",
    "    processed_blue = cv.imread(\n",
    "        \"output2/3post_processing/blue/\" + row.filename, 0)\n",
    "    processed_red = cv.imread(\n",
    "        \"output2/3post_processing/red/\" + row.filename, 0)\n",
    "\n",
    "    if processed_blue is not None:\n",
    "        contours_blue, shapes_blue = get_contours(img, processed_blue)\n",
    "\n",
    "    if processed_red is not None : \n",
    "        contours_red, shapes_red = get_contours(img, processed_red)\n",
    "\n",
    "    shapes = shapes_blue + shapes_red\n",
    "\n",
    "    #contours = cv.hconcat((contours_blue, contours_red))\n",
    "    cv.imwrite(\"output2/4contours/red/\" + row.filename, contours_red)\n",
    "    cv.imwrite(\"output2/4contours/blue/\" + row.filename, contours_blue)\n",
    "\n",
    "    return shapes\n"
   ]
  },
  {
   "cell_type": "code",
   "execution_count": 18,
   "metadata": {
    "pycharm": {
     "name": "#%%\n"
    }
   },
   "outputs": [],
   "source": [
    "df[\"shapes\"] = df.apply(shape_recognition, axis=1);"
   ]
  },
  {
   "cell_type": "code",
   "execution_count": 19,
   "metadata": {
    "pycharm": {
     "name": "#%%\n"
    }
   },
   "outputs": [],
   "source": [
    "def classify(row):\n",
    "    shapes_info = row.shapes\n",
    "    if len(shapes_info) == 0:\n",
    "        return -1\n",
    "\n",
    "    shapes = [x[0] for x in shapes_info]\n",
    "    shape = shapes[0]\n",
    "\n",
    "    if shape == 'circle':\n",
    "        return 0\n",
    "    elif shape == 'rectangle':\n",
    "        return 1\n",
    "    elif shape == 'octagon':\n",
    "        return 2\n",
    "\n",
    "    return -1\n",
    "\n",
    "df[\"classification\"] = df.apply(classify, axis=1);"
   ]
  },
  {
   "cell_type": "code",
   "execution_count": 20,
   "metadata": {},
   "outputs": [],
   "source": [
    "def concatenate_and_write(row):\n",
    "    img = cv.imread(row.path)\n",
    "    #hist = cv.imread(\"output2/1histogram/red/\" + row.filename)\n",
    "    hist = img\n",
    "    b_segm = cv.imread(\"output2/2segmentation/blue/\" + row.filename)\n",
    "    b_post = cv.imread(\"output2/3post_processing/blue/\" + row.filename)\n",
    "    r_segm = cv.imread(\"output2/2segmentation/red/\" + row.filename)\n",
    "    r_post = cv.imread(\"output2/3post_processing/red/\" + row.filename)\n",
    "    b_cnt = cv.imread(\"output2/4contours/blue/\" + row.filename)\n",
    "    r_cnt = cv.imread(\"output2/4contours/red/\" + row.filename)\n",
    "    vis = np.concatenate((img, hist, b_segm, r_segm, b_post, r_post, b_cnt, r_cnt), axis=1)\n",
    "\n",
    "    result = \"right\" if row['class'] == row['classification'] else \"wrong\"\n",
    "\n",
    "    c = df['class'][row.name]\n",
    "    p = os.path.join(\"output2\", \"5concatenated\",\n",
    "                     f'classe{c}', result + \"_\" + row.filename)\n",
    "    cv.imwrite(p, vis)\n"
   ]
  },
  {
   "cell_type": "code",
   "execution_count": 21,
   "metadata": {},
   "outputs": [
    {
     "data": {
      "text/plain": [
       "0      None\n",
       "1      None\n",
       "2      None\n",
       "3      None\n",
       "4      None\n",
       "       ... \n",
       "583    None\n",
       "584    None\n",
       "585    None\n",
       "586    None\n",
       "587    None\n",
       "Length: 588, dtype: object"
      ]
     },
     "execution_count": 21,
     "metadata": {},
     "output_type": "execute_result"
    }
   ],
   "source": [
    "df.apply(concatenate_and_write, axis=1)"
   ]
  },
  {
   "cell_type": "markdown",
   "metadata": {},
   "source": [
    "## Results"
   ]
  },
  {
   "cell_type": "code",
   "execution_count": 22,
   "metadata": {
    "pycharm": {
     "name": "#%%\n"
    },
    "scrolled": false
   },
   "outputs": [
    {
     "name": "stdout",
     "output_type": "stream",
     "text": [
      "Classes:\n",
      " 0    481\n",
      "2     65\n",
      "1     42\n",
      "Name: class, dtype: int64\n",
      "Detected classes:\n",
      "  0    498\n",
      " 2     51\n",
      " 1     28\n",
      "-1     11\n",
      "Name: classification, dtype: int64\n",
      "Accuracy Total: 79.42%\n",
      "Accuracy Signs Found: 80.94%\n"
     ]
    }
   ],
   "source": [
    "df_found = df[df[\"classification\"] != -1]\n",
    "\n",
    "accuracy_total = metrics.accuracy_score(df[\"class\"], df[\"classification\"])\n",
    "accuracy_found = metrics.accuracy_score(df_found[\"class\"], df_found[\"classification\"])\n",
    "\n",
    "print(\"Classes:\\n\", df[\"class\"].value_counts())\n",
    "print(\"Detected classes:\\n\", df[\"classification\"].value_counts())\n",
    "print(\"Accuracy Total: {:.02f}%\".format(accuracy_total*100))\n",
    "print(\"Accuracy Signs Found: {:.02f}%\".format(accuracy_found*100))"
   ]
  },
  {
   "cell_type": "code",
   "execution_count": 23,
   "metadata": {
    "pycharm": {
     "name": "#%%\n"
    }
   },
   "outputs": [
    {
     "name": "stdout",
     "output_type": "stream",
     "text": [
      "Class 0 - SpeedLimit R:434|W:47|NC:9\n",
      "Class 1 - Crosswalk: R:11|W:31|NC:2|0-Circle:26|2-Octagon:3\n",
      "Class 2 - Stop: R:22|W:43|NC:0\n"
     ]
    }
   ],
   "source": [
    "failed_0 = len(df[(df[\"class\"] == 0) & (df[\"classification\"] != 0)])    # speedlimit\n",
    "failed_1 = len(df[(df[\"class\"] == 1) & (df[\"classification\"] != 1)])    # crosswalk\n",
    "failed_2 = len(df[(df[\"class\"] == 2) & (df[\"classification\"] != 2)])    # stop\n",
    "\n",
    "failed_1_0 = len(df[(df[\"class\"] == 1) & (df[\"classification\"] == 0)])\n",
    "failed_1_2 = len(df[(df[\"class\"] == 1) & (df[\"classification\"] == 2)])\n",
    "\n",
    "right_0 = len(df[(df[\"class\"] == 0) & (df[\"classification\"] == 0)])\n",
    "right_1 = len(df[(df[\"class\"] == 1) & (df[\"classification\"] == 1)])\n",
    "right_2 = len(df[(df[\"class\"] == 2) & (df[\"classification\"] == 2)])\n",
    "\n",
    "not_classified_0 = len(df[(df[\"class\"] == 0) & (df[\"classification\"] == -1)])\n",
    "not_classified_1 = len(df[(df[\"class\"] == 1) & (df[\"classification\"] == -1)])\n",
    "not_classified_2 = len(df[(df[\"class\"] == 2) & (df[\"classification\"] == -1)])\n",
    "\n",
    "print(\"Class 0 - SpeedLimit R:{}|W:{}|NC:{}\".format(right_0, failed_0, not_classified_0))\n",
    "print(\"Class 1 - Crosswalk: R:{}|W:{}|NC:{}|0-Circle:{}|2-Octagon:{}\".format(right_1, failed_1, not_classified_1, failed_1_0,failed_1_2))\n",
    "print(\"Class 2 - Stop: R:{}|W:{}|NC:{}\".format(right_2, failed_2, not_classified_2))\n"
   ]
  },
  {
   "cell_type": "markdown",
   "metadata": {},
   "source": []
  },
  {
   "cell_type": "markdown",
   "metadata": {},
   "source": []
  },
  {
   "cell_type": "code",
   "execution_count": 24,
   "metadata": {},
   "outputs": [
    {
     "ename": "error",
     "evalue": "OpenCV(4.5.5) D:\\a\\opencv-python\\opencv-python\\opencv\\modules\\highgui\\src\\window_w32.cpp:1261: error: (-27:Null pointer) NULL window: 'out' in function 'cvDestroyWindow'\n",
     "output_type": "error",
     "traceback": [
      "\u001b[1;31m---------------------------------------------------------------------------\u001b[0m",
      "\u001b[1;31merror\u001b[0m                                     Traceback (most recent call last)",
      "\u001b[1;32mc:\\Users\\muril\\OneDrive\\Documentos\\FEUP\\4ano\\VCOM\\Projects\\Project1\\project_phase_1_separate_segmentation.ipynb Cell 29'\u001b[0m in \u001b[0;36m<cell line: 50>\u001b[1;34m()\u001b[0m\n\u001b[0;32m     <a href='vscode-notebook-cell:/c%3A/Users/muril/OneDrive/Documentos/FEUP/4ano/VCOM/Projects/Project1/project_phase_1_separate_segmentation.ipynb#ch0000028?line=45'>46</a>\u001b[0m     cv\u001b[39m.\u001b[39mdestroyWindow(\u001b[39m\"\u001b[39m\u001b[39mlast\u001b[39m\u001b[39m\"\u001b[39m)\n\u001b[0;32m     <a href='vscode-notebook-cell:/c%3A/Users/muril/OneDrive/Documentos/FEUP/4ano/VCOM/Projects/Project1/project_phase_1_separate_segmentation.ipynb#ch0000028?line=47'>48</a>\u001b[0m     \u001b[39m#cv.imwrite(\"output2/3post_processing/blue/road140.png\", out)\u001b[39;00m\n\u001b[1;32m---> <a href='vscode-notebook-cell:/c%3A/Users/muril/OneDrive/Documentos/FEUP/4ano/VCOM/Projects/Project1/project_phase_1_separate_segmentation.ipynb#ch0000028?line=49'>50</a>\u001b[0m apply_post_processing_red(\u001b[39m\"\u001b[39;49m\u001b[39mss\u001b[39;49m\u001b[39m\"\u001b[39;49m)\n",
      "\u001b[1;32mc:\\Users\\muril\\OneDrive\\Documentos\\FEUP\\4ano\\VCOM\\Projects\\Project1\\project_phase_1_separate_segmentation.ipynb Cell 29'\u001b[0m in \u001b[0;36mapply_post_processing_red\u001b[1;34m(img)\u001b[0m\n\u001b[0;32m      <a href='vscode-notebook-cell:/c%3A/Users/muril/OneDrive/Documentos/FEUP/4ano/VCOM/Projects/Project1/project_phase_1_separate_segmentation.ipynb#ch0000028?line=6'>7</a>\u001b[0m cv\u001b[39m.\u001b[39mimshow(\u001b[39m\"\u001b[39m\u001b[39mout\u001b[39m\u001b[39m\"\u001b[39m, segm_img)\n\u001b[0;32m      <a href='vscode-notebook-cell:/c%3A/Users/muril/OneDrive/Documentos/FEUP/4ano/VCOM/Projects/Project1/project_phase_1_separate_segmentation.ipynb#ch0000028?line=7'>8</a>\u001b[0m cv\u001b[39m.\u001b[39mwaitKey(\u001b[39m0\u001b[39m)\n\u001b[1;32m----> <a href='vscode-notebook-cell:/c%3A/Users/muril/OneDrive/Documentos/FEUP/4ano/VCOM/Projects/Project1/project_phase_1_separate_segmentation.ipynb#ch0000028?line=8'>9</a>\u001b[0m cv\u001b[39m.\u001b[39;49mdestroyWindow(\u001b[39m\"\u001b[39;49m\u001b[39mout\u001b[39;49m\u001b[39m\"\u001b[39;49m)\n\u001b[0;32m     <a href='vscode-notebook-cell:/c%3A/Users/muril/OneDrive/Documentos/FEUP/4ano/VCOM/Projects/Project1/project_phase_1_separate_segmentation.ipynb#ch0000028?line=10'>11</a>\u001b[0m \u001b[39m# blue\u001b[39;00m\n\u001b[0;32m     <a href='vscode-notebook-cell:/c%3A/Users/muril/OneDrive/Documentos/FEUP/4ano/VCOM/Projects/Project1/project_phase_1_separate_segmentation.ipynb#ch0000028?line=11'>12</a>\u001b[0m \u001b[39m# apply median filter to remove noise\u001b[39;00m\n\u001b[0;32m     <a href='vscode-notebook-cell:/c%3A/Users/muril/OneDrive/Documentos/FEUP/4ano/VCOM/Projects/Project1/project_phase_1_separate_segmentation.ipynb#ch0000028?line=12'>13</a>\u001b[0m out \u001b[39m=\u001b[39m cv\u001b[39m.\u001b[39mmedianBlur(segm_img, \u001b[39m5\u001b[39m)\n",
      "\u001b[1;31merror\u001b[0m: OpenCV(4.5.5) D:\\a\\opencv-python\\opencv-python\\opencv\\modules\\highgui\\src\\window_w32.cpp:1261: error: (-27:Null pointer) NULL window: 'out' in function 'cvDestroyWindow'\n"
     ]
    }
   ],
   "source": [
    "import cv2 as cv\n",
    "import numpy as np\n",
    "import skimage as sk\n",
    "\n",
    "def apply_post_processing_red(img):\n",
    "    segm_img = cv.imread(\"output2\\\\2segmentation\\\\red\\\\road56.png\", 0)\n",
    "    cv.imshow(\"out\", segm_img)\n",
    "    cv.waitKey(0)\n",
    "    cv.destroyWindow(\"out\")\n",
    "\n",
    "    # blue\n",
    "    # apply median filter to remove noise\n",
    "    out = cv.medianBlur(segm_img, 5)\n",
    "    \n",
    "    # Taking a matrix of size 5 as the kernel\n",
    "    kernel = cv.getStructuringElement(cv.MORPH_ELLIPSE, (7, 7))\n",
    "    kernel = sk.morphology.disk(3)\n",
    "    print(kernel)\n",
    "    \n",
    "\n",
    "    # morphological operations\n",
    "    out = cv.morphologyEx(out, cv.MORPH_CLOSE, kernel, iterations=6)\n",
    "\n",
    "    cv.imshow(\"blur\", out)\n",
    "    cv.waitKey(0)\n",
    "    cv.destroyWindow(\"blur\")\n",
    "\n",
    "    detected_circles = cv.HoughCircles(out,\n",
    "                                        cv.HOUGH_GRADIENT, 1, 20, param1=50,\n",
    "                                        param2=20, minRadius=1, maxRadius=40)\n",
    "\n",
    "    # Draw circles that are detected.\n",
    "    if detected_circles is not None:\n",
    "        print(\"detected\")\n",
    "        # Convert the circle parameters a, b and r to integers.\n",
    "        detected_circles = np.uint16(np.around(detected_circles))\n",
    "\n",
    "        for pt in detected_circles[0, :]:\n",
    "            a, b, r = pt[0], pt[1], pt[2]\n",
    "\n",
    "            # Draw the circumference of the circle.\n",
    "            cv.circle(out, (a, b), r, (128, 255, 0), 2)\n",
    "\n",
    "    cv.imshow(\"last\", out)\n",
    "    cv.waitKey(0)\n",
    "    cv.destroyWindow(\"last\")\n",
    "\n",
    "    #cv.imwrite(\"output2/3post_processing/blue/road140.png\", out)\n",
    "\n",
    "apply_post_processing_red(\"ss\")\n"
   ]
  },
  {
   "cell_type": "code",
   "execution_count": null,
   "metadata": {},
   "outputs": [
    {
     "name": "stdout",
     "output_type": "stream",
     "text": [
      "[[[ 1 -1 -1 -1]\n",
      "  [ 2  0 -1 -1]\n",
      "  [ 3  1 -1 -1]\n",
      "  [ 4  2 -1 -1]\n",
      "  [ 5  3 -1 -1]\n",
      "  [ 6  4 -1 -1]\n",
      "  [ 7  5 -1 -1]\n",
      "  [ 8  6 -1 -1]\n",
      "  [ 9  7 -1 -1]\n",
      "  [10  8 -1 -1]\n",
      "  [11  9 -1 -1]\n",
      "  [15 10 12 -1]\n",
      "  [13 -1 -1 11]\n",
      "  [-1 12 14 11]\n",
      "  [-1 -1 -1 13]\n",
      "  [16 11 -1 -1]\n",
      "  [17 15 -1 -1]\n",
      "  [18 16 -1 -1]\n",
      "  [19 17 -1 -1]\n",
      "  [20 18 -1 -1]\n",
      "  [21 19 -1 -1]\n",
      "  [23 20 22 -1]\n",
      "  [-1 -1 -1 21]\n",
      "  [25 21 24 -1]\n",
      "  [-1 -1 -1 23]\n",
      "  [26 23 -1 -1]\n",
      "  [-1 25 -1 -1]]]\n",
      "-1\n",
      "10\n",
      "-1\n",
      "2\n",
      "-1\n",
      "2\n",
      "-1\n",
      "1\n",
      "-1\n",
      "2\n",
      "-1\n",
      "2\n",
      "-1\n",
      "1\n",
      "-1\n",
      "1\n",
      "-1\n",
      "10\n",
      "-1\n",
      "1\n",
      "-1\n",
      "5\n",
      "-1\n",
      "8\n"
     ]
    },
    {
     "ename": "error",
     "evalue": "OpenCV(4.5.5) D:\\a\\opencv-python\\opencv-python\\opencv\\modules\\highgui\\src\\window_w32.cpp:1261: error: (-27:Null pointer) NULL window: 'out' in function 'cvDestroyWindow'\n",
     "output_type": "error",
     "traceback": [
      "\u001b[1;31m---------------------------------------------------------------------------\u001b[0m",
      "\u001b[1;31merror\u001b[0m                                     Traceback (most recent call last)",
      "\u001b[1;32mc:\\Users\\muril\\OneDrive\\Documentos\\FEUP\\4ano\\VCOM\\Projects\\Project1\\project_phase_1_separate_segmentation.ipynb Cell 30'\u001b[0m in \u001b[0;36m<cell line: 68>\u001b[1;34m()\u001b[0m\n\u001b[0;32m     <a href='vscode-notebook-cell:/c%3A/Users/muril/OneDrive/Documentos/FEUP/4ano/VCOM/Projects/Project1/project_phase_1_separate_segmentation.ipynb#ch0000029?line=63'>64</a>\u001b[0m                     shapes\u001b[39m.\u001b[39mappend(\u001b[39m\"\u001b[39m\u001b[39mother\u001b[39m\u001b[39m\"\u001b[39m) \n\u001b[0;32m     <a href='vscode-notebook-cell:/c%3A/Users/muril/OneDrive/Documentos/FEUP/4ano/VCOM/Projects/Project1/project_phase_1_separate_segmentation.ipynb#ch0000029?line=65'>66</a>\u001b[0m     \u001b[39mreturn\u001b[39;00m shapes\n\u001b[1;32m---> <a href='vscode-notebook-cell:/c%3A/Users/muril/OneDrive/Documentos/FEUP/4ano/VCOM/Projects/Project1/project_phase_1_separate_segmentation.ipynb#ch0000029?line=67'>68</a>\u001b[0m shape_recognition()\n",
      "\u001b[1;32mc:\\Users\\muril\\OneDrive\\Documentos\\FEUP\\4ano\\VCOM\\Projects\\Project1\\project_phase_1_separate_segmentation.ipynb Cell 30'\u001b[0m in \u001b[0;36mshape_recognition\u001b[1;34m()\u001b[0m\n\u001b[0;32m     <a href='vscode-notebook-cell:/c%3A/Users/muril/OneDrive/Documentos/FEUP/4ano/VCOM/Projects/Project1/project_phase_1_separate_segmentation.ipynb#ch0000029?line=30'>31</a>\u001b[0m cv\u001b[39m.\u001b[39mimshow(\u001b[39m\"\u001b[39m\u001b[39mout\u001b[39m\u001b[39m\"\u001b[39m, processed)\n\u001b[0;32m     <a href='vscode-notebook-cell:/c%3A/Users/muril/OneDrive/Documentos/FEUP/4ano/VCOM/Projects/Project1/project_phase_1_separate_segmentation.ipynb#ch0000029?line=31'>32</a>\u001b[0m cv\u001b[39m.\u001b[39mwaitKey(\u001b[39m0\u001b[39m)\n\u001b[1;32m---> <a href='vscode-notebook-cell:/c%3A/Users/muril/OneDrive/Documentos/FEUP/4ano/VCOM/Projects/Project1/project_phase_1_separate_segmentation.ipynb#ch0000029?line=32'>33</a>\u001b[0m cv\u001b[39m.\u001b[39;49mdestroyWindow(\u001b[39m\"\u001b[39;49m\u001b[39mout\u001b[39;49m\u001b[39m\"\u001b[39;49m)\n\u001b[0;32m     <a href='vscode-notebook-cell:/c%3A/Users/muril/OneDrive/Documentos/FEUP/4ano/VCOM/Projects/Project1/project_phase_1_separate_segmentation.ipynb#ch0000029?line=34'>35</a>\u001b[0m \u001b[39mif\u001b[39;00m \u001b[39mlen\u001b[39m(approx) \u001b[39m==\u001b[39m \u001b[39m4\u001b[39m:\n\u001b[0;32m     <a href='vscode-notebook-cell:/c%3A/Users/muril/OneDrive/Documentos/FEUP/4ano/VCOM/Projects/Project1/project_phase_1_separate_segmentation.ipynb#ch0000029?line=35'>36</a>\u001b[0m     shapes\u001b[39m.\u001b[39mappend((\u001b[39m\"\u001b[39m\u001b[39mrectangle\u001b[39m\u001b[39m\"\u001b[39m, cv\u001b[39m.\u001b[39mcontourArea(\n\u001b[0;32m     <a href='vscode-notebook-cell:/c%3A/Users/muril/OneDrive/Documentos/FEUP/4ano/VCOM/Projects/Project1/project_phase_1_separate_segmentation.ipynb#ch0000029?line=36'>37</a>\u001b[0m         contour), (cv\u001b[39m.\u001b[39mboundingRect(contour))))\n",
      "\u001b[1;31merror\u001b[0m: OpenCV(4.5.5) D:\\a\\opencv-python\\opencv-python\\opencv\\modules\\highgui\\src\\window_w32.cpp:1261: error: (-27:Null pointer) NULL window: 'out' in function 'cvDestroyWindow'\n"
     ]
    }
   ],
   "source": [
    "def shape_recognition():\n",
    "    processed = cv.imread(\"output2\\\\2segmentation\\\\red\\\\road56.png\", 0)\n",
    "    cv.imshow(\"out\", processed)\n",
    "    cv.waitKey(0)\n",
    "    cv.destroyWindow(\"out\")\n",
    "\n",
    "    _, thresh = cv.threshold(processed, 240, 255, cv.CHAIN_APPROX_SIMPLE)\n",
    "    contours, h = cv.findContours(\n",
    "        thresh, cv.RETR_TREE, cv.CHAIN_APPROX_SIMPLE)[-2:]\n",
    "\n",
    "    #contours = sorted(contours, key=lambda x: -cv.contourArea(x))[:10]\n",
    "\n",
    "    shapes = []\n",
    "\n",
    "    print(h)\n",
    "\n",
    "    for i, contour in enumerate(contours):\n",
    "        print(h[0][i][3])\n",
    "        if float(cv.contourArea(contour) / (processed.shape[0]*processed.shape[1])) >= 0.95:\n",
    "            continue\n",
    "        processed_1 = np.ones(processed.shape[:2], dtype=\"uint8\")\n",
    "        approx = cv.approxPolyDP(\n",
    "            contour, 0.01*cv.arcLength(contour, True), True)\n",
    "        cv.drawContours(processed, [contour], 0, (128, 0, 255), 2)\n",
    "        cv.drawContours(processed_1, [contour], 0, (128, 0, 255), 2)\n",
    "        print(len(approx))\n",
    "\n",
    "        if len(approx) > 10:  \n",
    "            processed = cv.bitwise_and(processed, processed, mask=processed_1)\n",
    "\n",
    "        cv.imshow(\"out\", processed)\n",
    "        cv.waitKey(0)\n",
    "        cv.destroyWindow(\"out\")\n",
    "        \n",
    "        if len(approx) == 4:\n",
    "            shapes.append((\"rectangle\", cv.contourArea(\n",
    "                contour), (cv.boundingRect(contour))))\n",
    "        \n",
    "        elif len(approx) >= 8:\n",
    "            \n",
    "            detected_circles = cv.HoughCircles(processed,\n",
    "                                               cv.HOUGH_GRADIENT, 1, 20, param1=50,\n",
    "                                               param2=30, minRadius=1, maxRadius=40)\n",
    "\n",
    "            # Draw circles that are detected.\n",
    "            if detected_circles is not None:\n",
    "                print(\"detected\")\n",
    "                # Convert the circle parameters a, b and r to integers.\n",
    "                detected_circles = np.uint16(np.around(detected_circles))\n",
    "\n",
    "                for pt in detected_circles[0, :]:\n",
    "                    a, b, r = pt[0], pt[1], pt[2]\n",
    "\n",
    "                    # Draw the circumference of the circle.\n",
    "                    cv.circle(processed, (a, b), r, (128, 255, 0), 2)\n",
    "\n",
    "                shapes.append((\"circle\", cv.contourArea(\n",
    "                    contour), (cv.boundingRect(contour))))\n",
    "            \n",
    "            else :\n",
    "                if len(approx) == 8:\n",
    "                    shapes.append((\"octagon\", cv.contourArea(\n",
    "                        contour), (cv.boundingRect(contour))))\n",
    "                    shapes.append(\"other\") \n",
    "\n",
    "    return shapes\n",
    "\n",
    "shape_recognition()\n"
   ]
  },
  {
   "cell_type": "code",
   "execution_count": 3,
   "metadata": {},
   "outputs": [
    {
     "name": "stdout",
     "output_type": "stream",
     "text": [
      "[[255. 255. 255. 255.   1.   1.   1.]\n",
      " [255. 255. 255. 255. 255.   1.   1.]\n",
      " [255. 255. 255. 255.   1.   1.   1.]\n",
      " [255. 255. 255. 255.   1.   1.   1.]\n",
      " [  1. 255.   1.   1.   1.   1.   1.]\n",
      " [  1.   1.   1.   1.   1.   1.   1.]\n",
      " [  1.   1.   1.   1.   1.   1.   1.]]\n"
     ]
    }
   ],
   "source": [
    "import numpy as np\n",
    "\n",
    "a, b = 1, 1\n",
    "n = 7\n",
    "r = 3\n",
    "\n",
    "y, x = np.ogrid[-a:n-a, -b:n-b]\n",
    "mask = x*x + y*y <= r*r\n",
    "\n",
    "array = np.ones((n, n))\n",
    "array[mask] = 255\n",
    "\n",
    "print(array)"
   ]
  },
  {
   "cell_type": "code",
   "execution_count": 20,
   "metadata": {},
   "outputs": [
    {
     "name": "stdout",
     "output_type": "stream",
     "text": [
      "(400, 300, 3)\n",
      "HSV values: [111 102 135]\n",
      "HSV values: [119  98  83]\n",
      "HSV values: [119  91  81]\n",
      "HSV values: [121  99  75]\n",
      "HSV values: [120  97  79]\n",
      "HSV values: [120  94  79]\n",
      "HSV values: [119  99  77]\n",
      "HSV values: [132 103  57]\n",
      "HSV values: [131  91  59]\n",
      "HSV values: [123  96  64]\n",
      "HSV values: [111  80  99]\n",
      "HSV values: [127  93  63]\n",
      "HSV values: [125 103  62]\n",
      "HSV values: [124  97  63]\n",
      "HSV values: [124  97  63]\n",
      "HSV values: [124  96  64]\n",
      "HSV values: [122 100  66]\n",
      "HSV values: [124  99  80]\n",
      "HSV values: [123  99  80]\n",
      "HSV values: [103 146 236]\n",
      "HSV values: [102 149 235]\n",
      "HSV values: [103 150 234]\n",
      "HSV values: [103 148 233]\n",
      "HSV values: [105 235  63]\n",
      "HSV values: [124  94  57]\n",
      "HSV values: [128  95  59]\n",
      "HSV values: [128  95  59]\n",
      "HSV values: [130 101  58]\n",
      "HSV values: [124  81  69]\n"
     ]
    },
    {
     "ename": "NameError",
     "evalue": "name 'apply_post_processing_blue_test' is not defined",
     "output_type": "error",
     "traceback": [
      "\u001b[1;31m---------------------------------------------------------------------------\u001b[0m",
      "\u001b[1;31mNameError\u001b[0m                                 Traceback (most recent call last)",
      "\u001b[1;32mc:\\Users\\muril\\OneDrive\\Documentos\\FEUP\\4ano\\VCOM\\Projects\\Project1\\project_phase_1_separate_segmentation.ipynb Cell 32'\u001b[0m in \u001b[0;36m<cell line: 71>\u001b[1;34m()\u001b[0m\n\u001b[0;32m     <a href='vscode-notebook-cell:/c%3A/Users/muril/OneDrive/Documentos/FEUP/4ano/VCOM/Projects/Project1/project_phase_1_separate_segmentation.ipynb#ch0000031?line=66'>67</a>\u001b[0m     cv\u001b[39m.\u001b[39mdestroyAllWindows()\n\u001b[0;32m     <a href='vscode-notebook-cell:/c%3A/Users/muril/OneDrive/Documentos/FEUP/4ano/VCOM/Projects/Project1/project_phase_1_separate_segmentation.ipynb#ch0000031?line=67'>68</a>\u001b[0m     \u001b[39mreturn\u001b[39;00m img_hist, out\n\u001b[1;32m---> <a href='vscode-notebook-cell:/c%3A/Users/muril/OneDrive/Documentos/FEUP/4ano/VCOM/Projects/Project1/project_phase_1_separate_segmentation.ipynb#ch0000031?line=70'>71</a>\u001b[0m img, processed \u001b[39m=\u001b[39m apply_segmentation(\u001b[39m\"\u001b[39;49m\u001b[39m\"\u001b[39;49m)\n\u001b[0;32m     <a href='vscode-notebook-cell:/c%3A/Users/muril/OneDrive/Documentos/FEUP/4ano/VCOM/Projects/Project1/project_phase_1_separate_segmentation.ipynb#ch0000031?line=71'>72</a>\u001b[0m get_contours(img, processed)\n",
      "\u001b[1;32mc:\\Users\\muril\\OneDrive\\Documentos\\FEUP\\4ano\\VCOM\\Projects\\Project1\\project_phase_1_separate_segmentation.ipynb Cell 32'\u001b[0m in \u001b[0;36mapply_segmentation\u001b[1;34m(row)\u001b[0m\n\u001b[0;32m     <a href='vscode-notebook-cell:/c%3A/Users/muril/OneDrive/Documentos/FEUP/4ano/VCOM/Projects/Project1/project_phase_1_separate_segmentation.ipynb#ch0000031?line=52'>53</a>\u001b[0m cv\u001b[39m.\u001b[39mdestroyAllWindows()\n\u001b[0;32m     <a href='vscode-notebook-cell:/c%3A/Users/muril/OneDrive/Documentos/FEUP/4ano/VCOM/Projects/Project1/project_phase_1_separate_segmentation.ipynb#ch0000031?line=53'>54</a>\u001b[0m \u001b[39m# out = cv.bitwise_and(img_hist, img_hist, mask=mask)\u001b[39;00m\n\u001b[1;32m---> <a href='vscode-notebook-cell:/c%3A/Users/muril/OneDrive/Documentos/FEUP/4ano/VCOM/Projects/Project1/project_phase_1_separate_segmentation.ipynb#ch0000031?line=56'>57</a>\u001b[0m out1 \u001b[39m=\u001b[39m apply_post_processing_blue_test(mask1) \n\u001b[0;32m     <a href='vscode-notebook-cell:/c%3A/Users/muril/OneDrive/Documentos/FEUP/4ano/VCOM/Projects/Project1/project_phase_1_separate_segmentation.ipynb#ch0000031?line=57'>58</a>\u001b[0m out2 \u001b[39m=\u001b[39m apply_post_processing_blue_test(blue_mask)\n\u001b[0;32m     <a href='vscode-notebook-cell:/c%3A/Users/muril/OneDrive/Documentos/FEUP/4ano/VCOM/Projects/Project1/project_phase_1_separate_segmentation.ipynb#ch0000031?line=59'>60</a>\u001b[0m \u001b[39mif\u001b[39;00m out1 \u001b[39mis\u001b[39;00m \u001b[39mNone\u001b[39;00m: \n",
      "\u001b[1;31mNameError\u001b[0m: name 'apply_post_processing_blue_test' is not defined"
     ]
    }
   ],
   "source": [
    "import cv2 as cv\n",
    "import numpy as np\n",
    "\n",
    "def coords_mouse_disp(event, x, y, flags, param):\n",
    "\n",
    "    if event == cv.EVENT_LBUTTONDBLCLK:  # left mouse double click\n",
    "        print(\"HSV values:\", param[y,x])\n",
    "        s = param.copy()\n",
    "        cv.circle(s,(x,y), 3,(128),1)\n",
    "        cv.imshow(\"eee\", s)\n",
    "        cv.waitKey(0)\n",
    "        cv.destroyAllWindows()\n",
    "\n",
    "\n",
    "def apply_segmentation(row):\n",
    "\n",
    "    img_hist = cv.imread(\"res\\images\\\\road484.png\")\n",
    "    print(img_hist.shape)\n",
    "    # TODO - work on histogram equalization\n",
    "    img_hsv = cv.cvtColor(img_hist, cv.COLOR_BGR2HSV)\n",
    "    cv.imshow(\"alo\", img_hist)\n",
    "    cv.setMouseCallback(\"alo\", coords_mouse_disp, img_hsv)\n",
    "    cv.waitKey(0)\n",
    "    cv.destroyAllWindows()\n",
    "\n",
    "    lower_red_m1 = (0, 30, 30)\n",
    "    upper_red_m1 = (15, 255, 255)\n",
    "\n",
    "    lower_red_m2 = (150, 30, 30)\n",
    "    upper_red_m2 = (180, 255, 255)\n",
    "\n",
    "    red = cv.inRange(img_hsv, lower_red_m1, upper_red_m1) + cv.inRange(img_hsv, lower_red_m2, upper_red_m2)\n",
    "\n",
    "    cv.imshow(\"r\", red)\n",
    "\n",
    "    fluorescent_lower = (23, 150,150)\n",
    "    fluorescent_upper = (40,180,260)\n",
    "    lower_blue_m3 = (94, 127, 20)\n",
    "    upper_blue_m3 = (126, 255, 200)\n",
    "    \n",
    "\n",
    "    mask1 = cv.inRange(img_hsv, fluorescent_lower, fluorescent_upper)\n",
    "\n",
    "    blue_mask = cv.inRange(img_hsv, lower_blue_m3, upper_blue_m3)\n",
    "    \n",
    "    # blue\n",
    "    # apply median filter to remove noise\n",
    "    blue_mask = cv.medianBlur(blue_mask, 5)\n",
    "\n",
    "    cv.imshow(\"alo\", blue_mask)\n",
    "    cv.imshow(\"m1\", mask1)\n",
    "    cv.waitKey(0)\n",
    "    cv.destroyAllWindows()\n",
    "    # out = cv.bitwise_and(img_hist, img_hist, mask=mask)\n",
    "\n",
    "\n",
    "    out1 = apply_post_processing_blue_test(mask1) \n",
    "    out2 = apply_post_processing_blue_test(blue_mask)\n",
    "    \n",
    "    if out1 is None: \n",
    "        out = out2\n",
    "    else: \n",
    "        out = out1 + out2\n",
    "\n",
    "    cv.imshow(\"joi\", out)\n",
    "    cv.waitKey(0)\n",
    "    cv.destroyAllWindows()\n",
    "    return img_hist, out\n",
    "\n",
    "\n",
    "img, processed = apply_segmentation(\"\")\n",
    "get_contours(img, processed)\n"
   ]
  },
  {
   "cell_type": "code",
   "execution_count": null,
   "metadata": {
    "pycharm": {
     "name": "#%%\n"
    }
   },
   "outputs": [],
   "source": []
  },
  {
   "cell_type": "code",
   "execution_count": null,
   "metadata": {},
   "outputs": [],
   "source": [
    "def apply_post_processing_blue_test(segm_img):\n",
    "\n",
    "    \n",
    "    if cv.countNonZero(segm_img) == 0:\n",
    "        return\n",
    "\n",
    "    linesP = cv.HoughLinesP(segm_img, 1, np.pi / 180, 50, None, 50, 10)\n",
    "\n",
    "    if linesP is not None:\n",
    "        for i in range(0, len(linesP)):\n",
    "            l = linesP[i][0]\n",
    "            cv.line(segm_img, (l[0], l[1]), (l[2], l[3]),\n",
    "                    (255, 0, 255), 3, cv.LINE_AA)\n",
    "\n",
    "    # blue\n",
    "    # apply median filter to remove noise\n",
    "    out = cv.medianBlur(segm_img, 5)\n",
    "    rows, cols = out.shape\n",
    "\n",
    "    cv.imshow(\"blur\", out)\n",
    "\n",
    "    # Taking a matrix of size 5 as the kernel\n",
    "    kernel = np.ones((5, 5), np.uint8)\n",
    "\n",
    "    # morphological operations\n",
    "    out = cv.morphologyEx(out, cv.MORPH_CLOSE, kernel, iterations=4)\n",
    "\n",
    "    # remove small and weird objects\n",
    "    contours, hierarchy = cv.findContours(\n",
    "        out, cv.RETR_TREE, cv.CHAIN_APPROX_SIMPLE)[-2:]\n",
    "    cv.imshow(\"forou\", out)\n",
    "    new = np.ones(out.shape)\n",
    "    for contour in contours:\n",
    "        approx = cv.approxPolyDP(\n",
    "            contour, 0.05*cv.arcLength(contour, True), True)\n",
    "        print(len(approx))\n",
    "        x, y, w, h = cv.boundingRect(contour)\n",
    "        aspect_ratio = float(w) / h\n",
    "        if (cv.contourArea(contour) < 1 / 1500.0 * rows * cols and (aspect_ratio > 0.5 or aspect_ratio < 1.3)):\n",
    "            new = cv.fillPoly(new, pts=contour, color=(0, 0, 0))\n",
    "    cv.imshow(\"forou\", out)\n",
    "    \n",
    "    mask = np.full(segm_img.shape, 0, \"uint8\")\n",
    "\n",
    "    contours, hierarchies = cv.findContours(\n",
    "        out, cv.RETR_TREE, cv.CHAIN_APPROX_SIMPLE)[-2:]\n",
    "    for cnt in contours:\n",
    "        cv.drawContours(mask, [cnt], -1, (255, 255, 255), -1)\n",
    "\n",
    "    # morphological operations\n",
    "    out = cv.erode(mask, kernel, iterations=3)\n",
    "    out = cv.dilate(mask, kernel, iterations=4)\n",
    "\n",
    "    cv.imshow(\"AA\", out)\n",
    "    cv.waitKey(0)\n",
    "    cv.destroyAllWindows()\n",
    "\n",
    "    return out\n",
    "\n",
    "\n",
    "def get_contours(img, processed):\n",
    "    _, thresh = cv.threshold(processed, 240, 255, cv.CHAIN_APPROX_SIMPLE)\n",
    "    contours, _ = cv.findContours(\n",
    "        thresh, cv.RETR_TREE, cv.CHAIN_APPROX_SIMPLE)[-2:]\n",
    "\n",
    "    contours = sorted(contours, key=lambda x: -cv.contourArea(x))[:10]\n",
    "\n",
    "    shapes = []\n",
    "\n",
    "    for contour in contours:\n",
    "        if float(cv.contourArea(contour) / (img.shape[0]*img.shape[1])) >= 0.95:\n",
    "            continue\n",
    "        approx = cv.approxPolyDP(\n",
    "            contour, 0.01*cv.arcLength(contour, True), True)\n",
    "        sh = \"\"\n",
    "        print(\"len(approx) =\", len(approx))\n",
    "        if len(approx) == 4:\n",
    "            shapes.append((\"rectangle\", cv.contourArea(\n",
    "                contour), (cv.boundingRect(contour))))\n",
    "            sh = \"R\"\n",
    "        elif len(approx) == 8:\n",
    "            shapes.append((\"octagon\", cv.contourArea(\n",
    "                contour), (cv.boundingRect(contour))))\n",
    "            sh = \"O\"\n",
    "        elif len(approx) > 8:\n",
    "            shapes.append((\"circle\", cv.contourArea(\n",
    "                contour), (cv.boundingRect(contour))))\n",
    "            sh = \"C\"\n",
    "\n",
    "        processed = cv.drawContours(processed, [contour], 0, (128, 0, 255), 2)\n",
    "\n",
    "        processed = cv.putText(img=processed, text=sh, org=approx[0][0],\n",
    "                               fontFace=cv.FONT_ITALIC,\n",
    "                               fontScale=1.0,\n",
    "                               color=(128, 0, 255),\n",
    "                               thickness=1)\n",
    "\n",
    "        cv.imshow(\"prcessed\", processed)\n",
    "        cv.waitKey(0)\n",
    "        cv.destroyAllWindows()\n",
    "\n",
    "    return processed, shapes\n"
   ]
  },
  {
   "cell_type": "markdown",
   "metadata": {},
   "source": [
    "## TEST WITH NEW PIPELINE \n",
    "\n"
   ]
  },
  {
   "cell_type": "code",
   "execution_count": null,
   "metadata": {},
   "outputs": [],
   "source": [
    "def process_roi(filename, roi):\n",
    "    #x,y,w,h,cX,cY = roi\n",
    "\n",
    "    #img = cv.imread('output/histogram/' + filename)\n",
    "    img = cv.imread('res/images/' + filename)\n",
    "    #img = img[y:(y+h),x:(x+w)]\n",
    "\n",
    "    #aux = np.full((h+50, w+50, 3), 0, \"uint8\")\n",
    "    #aux[25:25+h, 25:25+w] = img\n",
    "    #img = aux\n",
    "\n",
    "    img_hsv = cv.cvtColor(img, cv.COLOR_BGR2HSV)\n",
    "\n",
    "    lower_red_m1 = (0, 70, 60)\n",
    "    upper_red_m1 = (10, 255, 255)\n",
    "\n",
    "    lower_red_m2 = (170, 70, 60)\n",
    "    upper_red_m2 = (180, 255, 255)\n",
    "\n",
    "    lower_blue_m3 = (94, 127, 20)\n",
    "    upper_blue_m3 = (126, 255, 255)\n",
    "\n",
    "    fluorescent_lower = (23, 150, 150)\n",
    "    fluorescent_upper = (40, 180, 260)\n",
    "\n",
    "    mask1 = cv.inRange(img_hsv, lower_red_m1, upper_red_m1)\n",
    "    mask2 = cv.inRange(img_hsv, lower_red_m2, upper_red_m2)\n",
    "    mask_red = mask1 + mask2\n",
    "\n",
    "    cv.imshow(f'Masked red {filename}', mask_red)\n",
    "    cv.waitKey(0)\n",
    "    cv.destroyAllWindows()\n",
    "\n",
    "    mask_blue = cv.inRange(img_hsv, lower_blue_m3, upper_blue_m3)\n",
    "    mask_fluorescent = cv.inRange(\n",
    "        img_hsv, fluorescent_lower, fluorescent_upper)\n",
    "    mask_blue = mask_blue + mask_fluorescent\n",
    "\n",
    "    cv.imshow(f'Masked blue {filename}', mask_blue)\n",
    "    cv.waitKey(0)\n",
    "    cv.destroyAllWindows()\n",
    "\n",
    "    ratio_red = cv.countNonZero(mask_red)/(img.size/3)\n",
    "    ratio_blue = cv.countNonZero(mask_blue)/(img.size/3)\n",
    "\n",
    "    processed = None\n",
    "    blue = False\n",
    "    # morphological operations speciallized\n",
    "    if ratio_red > ratio_blue:\n",
    "        processed = mask_red\n",
    "    else:\n",
    "        processed = mask_blue\n",
    "        print(filename)\n",
    "        blue = True\n",
    "    # blue\n",
    "    # apply median filter to remove noise\n",
    "    processed = cv.medianBlur(processed, 5)\n",
    "    rows, cols = processed.shape\n",
    "\n",
    "    cv.imshow(\"blur\", processed)\n",
    "    # remove small and weird objects\n",
    "\n",
    "    contours, hierarchy = cv.findContours(\n",
    "        processed, cv.RETR_TREE, cv.CHAIN_APPROX_SIMPLE)[-2:]\n",
    "    for contour in contours:\n",
    "        x, y, w, h = cv.boundingRect(contour)\n",
    "        aspect_ratio = float(w) / h\n",
    "        if cv.contourArea(contour) < 1 / 1500.0 * rows * cols and (aspect_ratio > 0.5 or aspect_ratio < 1.3):\n",
    "            processed = cv.fillPoly(processed, pts=contour, color=(0, 0, 0))\n",
    "\n",
    "    # Taking a matrix of size 5 as the kernel\n",
    "    kernel = np.ones((5, 5), np.uint8)\n",
    "\n",
    "    # morphological operations\n",
    "    processed = cv.morphologyEx(\n",
    "        processed, cv.MORPH_CLOSE, kernel, iterations=3)\n",
    "\n",
    "    cv.imshow(f'Processed Before blue {filename}', processed)\n",
    "    cv.waitKey(0)\n",
    "    cv.destroyAllWindows()\n",
    "    if blue:\n",
    "        #processed = cv.morphologyEx(processed, cv.MORPH_CLOSE, kernel, iterations=3)\n",
    "        processed = cv.erode(processed, kernel, iterations=2)\n",
    "        processed = cv.dilate(processed, kernel, iterations=5)\n",
    "\n",
    "    _, thresh = cv.threshold(processed, 240, 255, cv.CHAIN_APPROX_NONE)\n",
    "    contours1, _ = cv.findContours(\n",
    "        thresh, cv.RETR_TREE, cv.CHAIN_APPROX_NONE)[-2:]\n",
    "    contours1 = sorted(contours1, key=lambda x: -cv.contourArea(x))[:10]\n",
    "\n",
    "    shapes = []\n",
    "\n",
    "    for contour in contours1:\n",
    "        if float(cv.contourArea(contour) / (img.shape[0]*img.shape[1])) >= 0.95:\n",
    "            continue\n",
    "        approx = cv.approxPolyDP(\n",
    "            contour, 0.01*cv.arcLength(contour, True), True)\n",
    "        print(len(approx))\n",
    "\n",
    "        if len(approx) == 4:\n",
    "            shapes.append((\"rectangle\", cv.contourArea(\n",
    "                contour), (cv.boundingRect(contour))))\n",
    "        elif len(approx) == 8:\n",
    "            shapes.append((\"octagon\", cv.contourArea(\n",
    "                contour), (cv.boundingRect(contour))))\n",
    "        # elif len(approx) > 8:\n",
    "        #     # check if there are hough circles\n",
    "        #     circles_img = cv.HoughCircles(processed,cv.HOUGH_GRADIENT,1,20,\n",
    "        #                                   param1=50,\n",
    "        #                                   param2=30,\n",
    "        #                                   minRadius=int(w*0.333),\n",
    "        #                                   maxRadius=0)\n",
    "        #     if circles_img is not None:\n",
    "        #         shapes.append((\"circle\", cv.contourArea(contour), (cv.boundingRect(contour))))\n",
    "\n",
    "        #elif(len(approx) == 3 ):\n",
    "         #   tentar limpar o triangulo no meio ou definir como crosswalk\n",
    "\n",
    "        processed = cv.drawContours(processed, [contour], 0, (128, 0, 255), 2)\n",
    "\n",
    "        cv.imshow(f'Processed {filename}', processed)\n",
    "        cv.waitKey(0)\n",
    "        cv.destroyAllWindows()\n",
    "\n",
    "    if len(shapes) == 0:\n",
    "        return 'undefined', ratio_red, ratio_blue\n",
    "\n",
    "    if shapes[0][0] == 'circle':\n",
    "        return 'circle', ratio_red, ratio_blue\n",
    "    elif shapes[0][0] == 'rectangle':\n",
    "        return 'rectangle', ratio_red, ratio_blue\n",
    "    elif shapes[0][0] == 'octagon':\n",
    "        return 'octagon', ratio_red, ratio_blue\n",
    "\n",
    "\n",
    "process_roi(\"road324.png\", 33)\n"
   ]
  }
 ],
 "metadata": {
  "kernelspec": {
   "display_name": "Python 3 (ipykernel)",
   "language": "python",
   "name": "python3"
  },
  "language_info": {
   "codemirror_mode": {
    "name": "ipython",
    "version": 3
   },
   "file_extension": ".py",
   "mimetype": "text/x-python",
   "name": "python",
   "nbconvert_exporter": "python",
   "pygments_lexer": "ipython3",
   "version": "3.9.10"
  }
 },
 "nbformat": 4,
 "nbformat_minor": 1
}
